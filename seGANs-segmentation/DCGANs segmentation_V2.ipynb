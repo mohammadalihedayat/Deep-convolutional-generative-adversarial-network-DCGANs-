{
 "cells": [
  {
   "cell_type": "code",
   "execution_count": 1,
   "metadata": {},
   "outputs": [],
   "source": [
    "%reset -sf"
   ]
  },
  {
   "cell_type": "code",
   "execution_count": 2,
   "metadata": {},
   "outputs": [
    {
     "name": "stderr",
     "output_type": "stream",
     "text": [
      "C:\\Users\\Reza\\Anaconda3\\lib\\site-packages\\h5py\\__init__.py:36: FutureWarning: Conversion of the second argument of issubdtype from `float` to `np.floating` is deprecated. In future, it will be treated as `np.float64 == np.dtype(float).type`.\n",
      "  from ._conv import register_converters as _register_converters\n"
     ]
    }
   ],
   "source": [
    "import tensorflow as tf\n",
    "import numpy as np\n",
    "import cv2\n",
    "import matplotlib.pyplot as plt\n",
    "%matplotlib inline\n",
    "from PIL import Image\n",
    "import os\n",
    "import math"
   ]
  },
  {
   "cell_type": "code",
   "execution_count": 3,
   "metadata": {},
   "outputs": [],
   "source": [
    "tf.reset_default_graph()"
   ]
  },
  {
   "cell_type": "code",
   "execution_count": 4,
   "metadata": {},
   "outputs": [],
   "source": [
    "#inputs\n",
    "path_img=\"C:/Users/Reza/Desktop/Deep learning/project/u-net segmentation/Image-Segmentation-with-Tensorflow-master/Carvana Image Masking Challenge (kaggle)/train/\"\n",
    "path_mask=\"C:/Users/Reza/Desktop/Deep learning/project/u-net segmentation/Image-Segmentation-with-Tensorflow-master/Carvana Image Masking Challenge (kaggle)/train_masks/\"\n",
    "batch_size=32\n",
    "img_size=128\n",
    "en_cov_size=4\n",
    "de_cov_size=3\n",
    "gen_filter=64\n",
    "dic_filter=64\n",
    "learning_rate=0.0001\n",
    "epochs=2\n",
    "restore=True"
   ]
  },
  {
   "cell_type": "code",
   "execution_count": 5,
   "metadata": {},
   "outputs": [],
   "source": [
    "#load-shuffel images\n",
    "\n",
    "names=list(map(lambda x:x.split(\".\")[0],os.listdir(path_img)))\n",
    "\n",
    "np.random.shuffle(names)\n",
    "\n",
    "def load_img(batch_num):\n",
    "    \n",
    "    imgs=[]\n",
    "    masks=[]\n",
    "    for i in names[batch_num*batch_size:(batch_num+1)*batch_size]:\n",
    "        img=cv2.imread(path_img+i+\".jpg\",0)\n",
    "        img=cv2.resize(img,(img_size,img_size),interpolation = cv2.INTER_CUBIC)\n",
    "        img=np.expand_dims(img,2)\n",
    "        imgs.append(img/255.)\n",
    "        \n",
    "        mask=Image.open(path_mask+i+\"_mask.gif\")\n",
    "        mask=np.array(mask.resize([img_size,img_size]))\n",
    "        mask=np.expand_dims(mask,2)\n",
    "        masks.append(mask/1.)\n",
    "        \n",
    "    return np.array(imgs),np.array(masks)\n"
   ]
  },
  {
   "cell_type": "code",
   "execution_count": 6,
   "metadata": {},
   "outputs": [],
   "source": [
    "input_img=tf.placeholder(dtype=tf.float32,shape=(None,img_size,img_size,1))\n",
    "input_mask=tf.placeholder(dtype=tf.float32,shape=(None,img_size,img_size,1))\n",
    "trains= tf.placeholder_with_default(True,shape=())"
   ]
  },
  {
   "cell_type": "code",
   "execution_count": 7,
   "metadata": {},
   "outputs": [],
   "source": [
    "def lrelu(x):\n",
    "    return tf.maximum(0.2*x,x)"
   ]
  },
  {
   "cell_type": "code",
   "execution_count": 8,
   "metadata": {},
   "outputs": [],
   "source": [
    "def conv2d(input_,filter_,size,stride_,layer_num,train=True):\n",
    "    L1=tf.layers.conv2d(inputs=input_,filters=filter_,kernel_size=size,strides=stride_,padding=\"same\",\n",
    "                        kernel_initializer=tf.keras.initializers.he_uniform())\n",
    "    \n",
    "    if(layer_num>0):\n",
    "        L1=tf.layers.batch_normalization(inputs=L1,training=train)\n",
    "        L1=tf.nn.leaky_relu(L1)\n",
    "    elif(layer_num==-1):\n",
    "        L1=tf.nn.leaky_relu(L1)\n",
    "    return L1"
   ]
  },
  {
   "cell_type": "code",
   "execution_count": 9,
   "metadata": {},
   "outputs": [],
   "source": [
    "def deconc2d(input_,filter_,size,stride_,layer_num,train=True):\n",
    "    \n",
    "    #L1=tf.layers.conv2d_transpose(inputs=input_,filters=filter_,kernel_size=4,strides=2,padding=\"same\")\n",
    "    \n",
    "    L1=tf.keras.layers.UpSampling2D(2)(input_)\n",
    "    \n",
    "    L1=conv2d(L1,filter_,size,1,2,train)\n",
    "    \n",
    "    if(layer_num>0):\n",
    "        L1=tf.layers.batch_normalization(inputs=L1,training=train)\n",
    "        L1=tf.nn.relu(L1)\n",
    "    \n",
    "    return L1"
   ]
  },
  {
   "cell_type": "code",
   "execution_count": 10,
   "metadata": {},
   "outputs": [],
   "source": [
    "def layers(input_,filter_,layer_num,train=True):\n",
    "    current=conv2d(input_,filter_,4,2,layer_num,train)\n",
    "    #print(\"L1:\",layer_num,current)\n",
    "    if(layer_num<3):\n",
    "        current=layers(current,filter_*2,(layer_num+1),train=train)\n",
    "        #print(\"current:\",layer_num,current)\n",
    "    L2=deconc2d(current,filter_//2,3,2,layer_num,train=train)\n",
    "    #print(\"L2:\",layer_num,L2)\n",
    "    output=tf.concat([L2,input_],axis=3)\n",
    "    #print(\"out:\",layer_num,output)\n",
    "    return output"
   ]
  },
  {
   "cell_type": "code",
   "execution_count": 11,
   "metadata": {},
   "outputs": [],
   "source": [
    "def gen(input_,train=True,reuse=False):\n",
    "    #print(train)\n",
    "    with tf.variable_scope(\"generator\", reuse=reuse):\n",
    "        L0=conv2d(input_,gen_filter,en_cov_size,2,0,train)\n",
    "        gen_mask=layers(L0,128,1,train=train)\n",
    "        gen_mask=tf.concat([L0,gen_mask],axis=3)\n",
    "        out=deconc2d(gen_mask,1,de_cov_size,2,0,train)\n",
    "    if(train==False):     \n",
    "        return tf.nn.sigmoid(out)\n",
    "    else:\n",
    "        return out"
   ]
  },
  {
   "cell_type": "code",
   "execution_count": 12,
   "metadata": {},
   "outputs": [],
   "source": [
    "def disc(input_,train,reuse=False):\n",
    "    \n",
    "    with tf.variable_scope(\"disc\", reuse=reuse):\n",
    "        #print(input_.get_shape())\n",
    "        loss1=conv2d(input_,dic_filter,4,2,-1,train=train)\n",
    "        loss2=conv2d(loss1,dic_filter*2,4,2,1,train=train)\n",
    "        loss3=conv2d(loss2,dic_filter*4,4,2,1,train=train)\n",
    "\n",
    "    \n",
    "    loss=tf.concat([tf.layers.flatten(input_),tf.layers.flatten(loss1),tf.layers.flatten(loss2),\n",
    "                    tf.layers.flatten(loss3)],axis=1)\n",
    "    return loss"
   ]
  },
  {
   "cell_type": "code",
   "execution_count": 13,
   "metadata": {},
   "outputs": [],
   "source": [
    "def dice_loss(input_, target):\n",
    "    smooth = 0.1\n",
    "\n",
    "    iflat = tf.layers.flatten(input_)\n",
    "    tflat = tf.layers.flatten(target)\n",
    "    intersection = tf.reduce_sum(iflat * tflat)\n",
    "    \n",
    "    return 1. - ((2. * intersection + smooth) /\n",
    "              (tf.reduce_sum(iflat) + tf.reduce_sum(tflat) + smooth))"
   ]
  },
  {
   "cell_type": "code",
   "execution_count": 14,
   "metadata": {},
   "outputs": [],
   "source": [
    "def dcgans(input_,input_mask,train,reuses=False):\n",
    "    \n",
    "    fake_mask=gen(input_,train=train,reuse=reuses)\n",
    "    #print(fake_mask.get_shape())\n",
    "    fake_mask=tf.multiply(input_,tf.nn.sigmoid(fake_mask))\n",
    "    #print(fake_mask.get_shape())\n",
    "    fake_loss=disc(fake_mask,train=train,reuse=reuses)\n",
    "    real_mask=tf.multiply(input_mask,input_)\n",
    "    #print(real_mask.get_shape())\n",
    "    real_loss=disc(real_mask,train=train,reuse=True)\n",
    "    \n",
    "    loss_D=-tf.reduce_mean(tf.abs(fake_loss-real_loss))\n",
    "    \n",
    "    \n",
    "    loss_dice= dice_loss(fake_mask,real_mask)\n",
    "    loss_G= tf.reduce_mean(tf.abs(fake_loss-real_loss))\n",
    "    loss_G_joint= loss_dice+loss_G\n",
    "    \n",
    "    \n",
    "    t_vars=tf.trainable_variables()\n",
    "    d_vars=[var for var in t_vars if var.name.startswith(\"disc\")]\n",
    "    g_vars=[var for var in t_vars if var.name.startswith(\"generator\")]\n",
    "    \n",
    "    with tf.control_dependencies(tf.get_collection(tf.GraphKeys.UPDATE_OPS)): \n",
    "        g_train=tf.train.AdamOptimizer(learning_rate=learning_rate).minimize(loss_G_joint,var_list=g_vars)\n",
    "        d_train=tf.train.AdamOptimizer(learning_rate=learning_rate).minimize(loss_D,var_list=d_vars)\n",
    "        \n",
    "    clip_op = [p.assign(tf.clip_by_value(p, -0.05, 0.05)) for p in d_vars]\n",
    "    \n",
    "    return g_train,d_train,loss_G_joint,loss_D,clip_op\n"
   ]
  },
  {
   "cell_type": "code",
   "execution_count": null,
   "metadata": {},
   "outputs": [],
   "source": []
  },
  {
   "cell_type": "code",
   "execution_count": 15,
   "metadata": {},
   "outputs": [],
   "source": [
    "g_train,d_train,g_loss,d_loss_sum,clip_op=dcgans(input_img,input_mask,train=trains,reuses=False)"
   ]
  },
  {
   "cell_type": "code",
   "execution_count": 16,
   "metadata": {},
   "outputs": [
    {
     "name": "stdout",
     "output_type": "stream",
     "text": [
      "INFO:tensorflow:Restoring parameters from ./model-50\n",
      "Model restored.\n"
     ]
    }
   ],
   "source": [
    "saver = tf.train.Saver()\n",
    "\n",
    "sess=tf.Session()\n",
    "\n",
    "if (restore==True):\n",
    "    saver.restore(sess, \"./model-50\")\n",
    "    print(\"Model restored.\")\n",
    "else:\n",
    "    sess.run(tf.global_variables_initializer())\n",
    "    sess.run(tf.local_variables_initializer())"
   ]
  },
  {
   "cell_type": "code",
   "execution_count": 17,
   "metadata": {
    "scrolled": true
   },
   "outputs": [],
   "source": [
    "for epoch in range(epochs):\n",
    "    np.random.shuffle(names)\n",
    "    for i in range(len(names)//batch_size):\n",
    "        img_batch,mask_batch=load_img(i)\n",
    "        \n",
    "        _,dloss,_=sess.run([d_train,d_loss_sum,clip_op],feed_dict={input_img:img_batch,input_mask:mask_batch,trains:True})\n",
    "        _,gloss=sess.run([g_train,g_loss],feed_dict={input_img:img_batch,input_mask:mask_batch,trains:True})\n",
    "        \n",
    "        if(i%50==0):\n",
    "            save_path = saver.save(sess, \"./model\",global_step=i)\n",
    "            print(\"Model saved in path: %s\" % save_path)\n",
    "            a=sess.run(gen(input_img,train=False,reuse=True),feed_dict={input_img:img_batch,input_mask:mask_batch,trains:False})\n",
    "            a[a<.5]=0.\n",
    "            a[a>.5]=1.\n",
    "            cv2.imwrite(\"C:/Users/Reza/Desktop/Deep learning/project/DeepLearning-SeGAN-Segmentation-master/\"+str(i)+\".png\",a[0,...]*255.)\n",
    "            cv2.imwrite(\"C:/Users/Reza/Desktop/Deep learning/project/DeepLearning-SeGAN-Segmentation-master/\"+str(i)+\"_mask.png\",mask_batch[0,...]*255.)\n",
    "            print(\"gloss:{},dloss:{}\".format(gloss,dloss))"
   ]
  },
  {
   "cell_type": "code",
   "execution_count": 18,
   "metadata": {},
   "outputs": [],
   "source": [
    "path_img=\"C:/Users/Reza/Desktop/Deep learning/project/u-net segmentation/Image-Segmentation-with-Tensorflow-master/Carvana Image Masking Challenge (kaggle)/test/\"\n",
    "\n",
    "#load-shuffel images\n",
    "\n",
    "names=list(map(lambda x:x.split(\".\")[0],os.listdir(path_img)))\n",
    "\n",
    "np.random.shuffle(names)\n",
    "\n",
    "def load_test_img(batch_num):\n",
    "    \n",
    "    imgs=[]\n",
    "    masks=[]\n",
    "    for i in names[batch_num*batch_size:(batch_num+1)*batch_size]:\n",
    "        img=cv2.imread(path_img+i+\".jpg\",0)\n",
    "        img=cv2.resize(img,(img_size,img_size),interpolation = cv2.INTER_CUBIC)\n",
    "        img=np.expand_dims(img,2)\n",
    "        imgs.append(img/255.)\n",
    "        \n",
    "    return np.array(imgs)\n"
   ]
  },
  {
   "cell_type": "code",
   "execution_count": 22,
   "metadata": {},
   "outputs": [],
   "source": [
    "img_batch=load_test_img(0)\n",
    "a=sess.run(gen(input_img,train=False,reuse=True),feed_dict={input_img:img_batch,trains:False})\n",
    "#a=img_batch*a"
   ]
  },
  {
   "cell_type": "code",
   "execution_count": 29,
   "metadata": {},
   "outputs": [
    {
     "data": {
      "text/plain": [
       "<matplotlib.image.AxesImage at 0x1df342a7710>"
      ]
     },
     "execution_count": 29,
     "metadata": {},
     "output_type": "execute_result"
    },
    {
     "data": {
      "image/png": "[encoded data removed]",
      "text/plain": [
       "<Figure size 432x288 with 1 Axes>"
      ]
     },
     "metadata": {},
     "output_type": "display_data"
    }
   ],
   "source": [
    "a[a<.5]=0.\n",
    "a[a>.5]=1.\n",
    "plt.imshow(a[0,...,0],cmap=\"gray\")"
   ]
  },
  {
   "cell_type": "code",
   "execution_count": 30,
   "metadata": {},
   "outputs": [
    {
     "data": {
      "text/plain": [
       "<matplotlib.image.AxesImage at 0x1df34302d68>"
      ]
     },
     "execution_count": 30,
     "metadata": {},
     "output_type": "execute_result"
    },
    {
     "data": {
      "image/png": "[encoded data removed]",
      "text/plain": [
       "<Figure size 432x288 with 1 Axes>"
      ]
     },
     "metadata": {},
     "output_type": "display_data"
    }
   ],
   "source": [
    "plt.imshow(img_batch[0,...,0],cmap=\"gray\")"
   ]
  },
  {
   "cell_type": "code",
   "execution_count": null,
   "metadata": {},
   "outputs": [],
   "source": [
    "plt.imshow(mask_batch[2,...,0],cmap=\"gray\")"
   ]
  },
  {
   "cell_type": "code",
   "execution_count": null,
   "metadata": {},
   "outputs": [],
   "source": []
  },
  {
   "cell_type": "code",
   "execution_count": null,
   "metadata": {},
   "outputs": [],
   "source": []
  },
  {
   "cell_type": "code",
   "execution_count": null,
   "metadata": {},
   "outputs": [],
   "source": []
  },
  {
   "cell_type": "code",
   "execution_count": null,
   "metadata": {},
   "outputs": [],
   "source": [
    "sess.close()"
   ]
  }
 ],
 "metadata": {
  "kernelspec": {
   "display_name": "Python 3",
   "language": "python",
   "name": "python3"
  },
  "language_info": {
   "codemirror_mode": {
    "name": "ipython",
    "version": 3
   },
   "file_extension": ".py",
   "mimetype": "text/x-python",
   "name": "python",
   "nbconvert_exporter": "python",
   "pygments_lexer": "ipython3",
   "version": "3.6.5"
  }
 },
 "nbformat": 4,
 "nbformat_minor": 2
}
